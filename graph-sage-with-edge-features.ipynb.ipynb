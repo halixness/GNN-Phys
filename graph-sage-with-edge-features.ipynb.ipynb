{
 "metadata": {
  "language_info": {
   "codemirror_mode": {
    "name": "ipython",
    "version": 3
   },
   "file_extension": ".py",
   "mimetype": "text/x-python",
   "name": "python",
   "nbconvert_exporter": "python",
   "pygments_lexer": "ipython3",
   "version": "3.8.3-final"
  },
  "orig_nbformat": 2,
  "kernelspec": {
   "name": "python3",
   "display_name": "Python 3"
  }
 },
 "nbformat": 4,
 "nbformat_minor": 2,
 "cells": [
  {
   "cell_type": "code",
   "execution_count": 67,
   "metadata": {},
   "outputs": [],
   "source": [
    "\n",
    "from dgl.utils import expand_as_pair, check_eq_shape\n",
    "\n",
    "\n",
    "\"\"\"\n",
    "    Source:             https://github.com/dmlc/dgl/blob/master/python/dgl/nn/pytorch/conv/sageconv.py\n",
    "    \n",
    "    Modifications:      Removed all the aggregation types but GCN (forced to GCN aggr_type)\n",
    "                        Applied message computation with edge values\n",
    "\"\"\"\n",
    "class MeSSAGEConv(nn.Module):\n",
    "\n",
    "    def __init__(self,\n",
    "                 in_feats,\n",
    "                 out_feats,\n",
    "                 feat_drop=0.,\n",
    "                 bias=True,\n",
    "                 norm=None,\n",
    "                 activation=None):\n",
    "        super(MeSSAGEConv, self).__init__()\n",
    "\n",
    "        self._in_src_feats, self._in_dst_feats = expand_as_pair(in_feats)\n",
    "        self._out_feats = out_feats\n",
    "        self.norm = norm\n",
    "        self.feat_drop = nn.Dropout(feat_drop)\n",
    "        self.activation = activation\n",
    "\n",
    "        # Using GCN\n",
    "        self.fc_neigh = nn.Linear(self._in_src_feats, out_feats, bias=bias)\n",
    "        self.reset_parameters()\n",
    "\n",
    "    def reset_parameters(self):\n",
    "        gain = nn.init.calculate_gain('relu')\n",
    "\n",
    "        # GCN  init with xavier uniform\n",
    "        nn.init.xavier_uniform_(self.fc_neigh.weight, gain=gain)\n",
    "\n",
    "\n",
    "    def forward(self, graph, feat, edges):\n",
    "\n",
    "        with graph.local_scope():\n",
    "            # (u, v) format \n",
    "            if isinstance(feat, tuple):\n",
    "                feat_src = self.feat_drop(feat[0])\n",
    "                feat_dst = self.feat_drop(feat[1])\n",
    "            else:\n",
    "                feat_src = feat_dst = self.feat_drop(feat)\n",
    "                if graph.is_block:\n",
    "                    feat_dst = feat_src[:graph.number_of_dst_nodes()]\n",
    "\n",
    "            h_self = feat_dst\n",
    "\n",
    "            # Handle the case of graphs without edges\n",
    "            if graph.number_of_edges() == 0:\n",
    "                graph.dstdata['neigh'] = torch.zeros(\n",
    "                    feat_dst.shape[0], self._in_src_feats).to(feat_dst)\n",
    "\n",
    "            # AGGR TYPE: GCN -> forward\n",
    "            check_eq_shape(feat)\n",
    "            graph.srcdata['h'] = feat_src\n",
    "            graph.dstdata['h'] = feat_dst     # same as above if homogeneous\n",
    "\n",
    "            # Apply edges to src nodes\n",
    "            graph.edata['a'] = edges\n",
    "            graph.update_all(\n",
    "                fn.u_mul_e('h', 'a', 'm_a'),\n",
    "                fn.sum('m_a', 'h')\n",
    "            )\n",
    "\n",
    "            # Apply neighbour aggregation -> message \n",
    "            graph.update_all(fn.copy_src('h', 'm'), fn.sum('m', 'neigh'))\n",
    "\n",
    "            # neighbours + curr node -> new node feat\n",
    "            degs = graph.in_degrees().to(feat_dst)\n",
    "            h_neigh = (graph.dstdata['neigh'] + graph.dstdata['h']) / (degs.unsqueeze(-1) + 1)\n",
    "        \n",
    "            # NN(new node feat) \n",
    "            rst = self.fc_neigh(h_neigh)\n",
    "\n",
    "            # activation if any\n",
    "            if self.activation is not None:\n",
    "                rst = self.activation(rst)\n",
    "\n",
    "            # normalization if any\n",
    "            if self.norm is not None:\n",
    "                rst = self.norm(rst)\n",
    "            return rst"
   ]
  },
  {
   "cell_type": "code",
   "execution_count": 68,
   "metadata": {},
   "outputs": [
    {
     "output_type": "execute_result",
     "data": {
      "text/plain": [
       "tensor([[ 0.5917, -1.2986,  4.6642,  0.4827,  1.3296],\n",
       "        [-0.0451, -0.5946,  4.2177,  1.6446,  0.4137],\n",
       "        [ 0.2701, -1.9960,  2.8608,  2.8209,  1.3942],\n",
       "        [ 0.3006, -0.9945,  3.4080,  2.6003,  0.5482],\n",
       "        [ 0.3727, -1.6936,  4.4544,  0.2479,  1.7237]],\n",
       "       grad_fn=<AddmmBackward>)"
      ]
     },
     "metadata": {},
     "execution_count": 68
    }
   ],
   "source": [
    "g = dgl.DGLGraph()\n",
    "g.add_nodes(5)\n",
    "\n",
    "# 0 1 2 3 4\n",
    "# | | | | |\n",
    "# V V V V V \n",
    "# 1 2 3 4 2\n",
    "g.add_edges([0, 1, 2, 3, 4], [1, 2, 3, 4, 0])\n",
    "\n",
    "# node featues\n",
    "u_features = torch.rand((5, 5))\n",
    "v_features  = torch.rand((5, 5))\n",
    "\n",
    "# edge values\n",
    "edges = torch.tensor([[3.], [4.], [3.], [4.], [3.]])\n",
    "\n",
    "# 5 features for each node -> 5 out features per node\n",
    "conv = MeSSAGEConv(5, 5)\n",
    "res = conv(g, (u_features, v_features), edges)\n",
    "res"
   ]
  },
  {
   "cell_type": "code",
   "execution_count": 70,
   "metadata": {},
   "outputs": [],
   "source": [
    "class MessageNet(nn.Module):\n",
    "    def __init__(self):\n",
    "        super(Net, self).__init__()\n",
    "        \n",
    "        # Using GCNLayers\n",
    "        # 1433 node features (each node)\n",
    "        self.layer1 = MeSSAGEConv(5, 16)\n",
    "        self.layer2 = MeSSAGEConv(16, 5)\n",
    "\n",
    "    def forward(self, g, features, edges):\n",
    "\n",
    "        # Continuous output\n",
    "        x = F.relu(self.layer1(g, features, edges))\n",
    "        x = self.layer2(g, x, edges)\n",
    "        return x\n",
    "\n",
    "net = Net()"
   ]
  },
  {
   "cell_type": "code",
   "execution_count": 72,
   "metadata": {},
   "outputs": [
    {
     "output_type": "execute_result",
     "data": {
      "text/plain": [
       "tensor([[ 3.1789, -3.6413, -8.9632, 21.3088, -5.5338],\n",
       "        [ 2.9888, -2.1161, -9.3941, 20.4855, -7.0903],\n",
       "        [ 2.1981, -2.8307, -9.6823, 21.5778, -7.1989],\n",
       "        [ 2.1544, -3.7740, -7.8020, 20.6272, -4.4232],\n",
       "        [ 2.9180, -4.8823, -7.2430, 20.8156, -2.6052]],\n",
       "       grad_fn=<AddmmBackward>)"
      ]
     },
     "metadata": {},
     "execution_count": 72
    }
   ],
   "source": [
    "net(g, (u_features, v_features), edges)"
   ]
  }
 ]
}